{
 "cells": [
  {
   "cell_type": "markdown",
   "id": "56ef718e-562b-4cf8-aa1b-053fb2453381",
   "metadata": {},
   "source": [
    "# Umrah With Shk AE - August 2024\n",
    "\n",
    "Insert funny statement here 🔥🔥🔥🔥\n",
    "\n",
    "Contains:\n",
    "\n",
    "- Notes and summaries from each lecture.\n",
    "- Photos and additional resources.\n",
    "- Contributions (Please shareee).\n",
    "\n",
    "Will add notes and contributions from everyone and compile it inshallah...\n",
    "\n",
    "- [Lectures](lectures/index.ipynb)\n"
   ]
  },
  {
   "cell_type": "code",
   "execution_count": null,
   "id": "8d822541-7eaa-450d-acf2-dd495ffe87dd",
   "metadata": {},
   "outputs": [],
   "source": []
  }
 ],
 "metadata": {
  "kernelspec": {
   "display_name": "Python 3 (ipykernel)",
   "language": "python",
   "name": "python3"
  },
  "language_info": {
   "codemirror_mode": {
    "name": "ipython",
    "version": 3
   },
   "file_extension": ".py",
   "mimetype": "text/x-python",
   "name": "python",
   "nbconvert_exporter": "python",
   "pygments_lexer": "ipython3",
   "version": "3.12.4"
  }
 },
 "nbformat": 4,
 "nbformat_minor": 5
}
