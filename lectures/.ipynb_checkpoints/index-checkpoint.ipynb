{
 "cells": [
  {
   "cell_type": "markdown",
   "id": "7494c3b7-262c-45c1-abb4-35b51bd9e7cb",
   "metadata": {},
   "source": [
    "# Lecture Index\n",
    "\n",
    "All lectures documented here! Click on any lecture to view notes, recordings etc. \n",
    "\n",
    "## Lecture List\n",
    "\n",
    "1. [Lecture 1: [Quba Walk]](lecture1.ipynb)\n",
    "---\n",
    "\n",
    "[🏠 Home](../index.ipynb) | [📜 Site Navigation](../navigation.ipynb)"
   ]
  }
 ],
 "metadata": {
  "kernelspec": {
   "display_name": "Python 3 (ipykernel)",
   "language": "python",
   "name": "python3"
  },
  "language_info": {
   "codemirror_mode": {
    "name": "ipython",
    "version": 3
   },
   "file_extension": ".py",
   "mimetype": "text/x-python",
   "name": "python",
   "nbconvert_exporter": "python",
   "pygments_lexer": "ipython3",
   "version": "3.12.4"
  }
 },
 "nbformat": 4,
 "nbformat_minor": 5
}
