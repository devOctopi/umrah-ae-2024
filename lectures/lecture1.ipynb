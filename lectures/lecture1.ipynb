{
 "cells": [
  {
   "cell_type": "markdown",
   "id": "7494c3b7-262c-45c1-abb4-35b51bd9e7cb",
   "metadata": {},
   "source": [
    "# Lecture 1: Quick Walk to Quba\n",
    "\n",
    "## Summary\n",
    "\n",
    "Sheikh called Adam a monkey again. If someone can summarize/share notes, would help :D\n",
    "\n",
    "## Points\n",
    "\n",
    "- ...\n",
    "\n"
   ]
  },
  {
   "cell_type": "markdown",
   "id": "367c55a6-bad6-4452-924a-a16ade5c7501",
   "metadata": {},
   "source": [
    "## 🎧 Lecture Audio\n",
    "\n",
    "Below, you'll find the audio playback feature for this lecture. \n"
   ]
  },
  {
   "cell_type": "code",
   "execution_count": 33,
   "id": "e393987f-316c-485c-b7a8-84a38cad02d7",
   "metadata": {},
   "outputs": [
    {
     "data": {
      "text/html": [
       "\n",
       "                <audio  controls=\"controls\" >\n",
       "                    <source src=\"https://drive.google.com/uc?export=download&id=17uvfmLX3Uqo6GHU7oWbo010aI0d2A20w\" type=\"None\" />\n",
       "                    Your browser does not support the audio element.\n",
       "                </audio>\n",
       "              "
      ],
      "text/plain": [
       "<IPython.lib.display.Audio object>"
      ]
     },
     "execution_count": 33,
     "metadata": {},
     "output_type": "execute_result"
    }
   ],
   "source": [
    "from IPython.display import Audio\n",
    "Audio(url='./audio/lecture1_audio.mp3', autoplay=False)"
   ]
  },
  {
   "cell_type": "markdown",
   "id": "18ccebf1-3deb-4389-bfe2-217dd0411a98",
   "metadata": {},
   "source": [
    "[🏠 Home](../index.ipynb) | [Next Lecture →] | "
   ]
  }
 ],
 "metadata": {
  "kernelspec": {
   "display_name": "Python 3 (ipykernel)",
   "language": "python",
   "name": "python3"
  },
  "language_info": {
   "codemirror_mode": {
    "name": "ipython",
    "version": 3
   },
   "file_extension": ".py",
   "mimetype": "text/x-python",
   "name": "python",
   "nbconvert_exporter": "python",
   "pygments_lexer": "ipython3",
   "version": "3.12.4"
  }
 },
 "nbformat": 4,
 "nbformat_minor": 5
}
